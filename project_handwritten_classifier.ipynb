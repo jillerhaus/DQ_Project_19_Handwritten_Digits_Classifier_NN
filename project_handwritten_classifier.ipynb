{
 "cells": [
  {
   "cell_type": "markdown",
   "metadata": {},
   "source": [
    "# Handwritten Digit Classifier Project\n",
    "In this project a handwritten digit classifier will be constructed by using a neural network. The `load_digits` dataset from `sklearn.datasets` will be used to train and test the neural network. To be able to identify the digits, image recognition has to be used. \n",
    "\n",
    "But image recognition is a difficult task:\n",
    "\n",
    "* each pixel is a feature (large amount of data)\n",
    "* no clear linear or non-linear correlation between pixels -> mostly deep neural networks are useful\n",
    "* neural networks require large datasets to train and are computationally expensive to train"
   ]
  },
  {
   "cell_type": "markdown",
   "metadata": {},
   "source": [
    "## Setup"
   ]
  },
  {
   "cell_type": "code",
   "execution_count": 1,
   "metadata": {},
   "outputs": [],
   "source": [
    "import pandas as pd\n",
    "import numpy as np\n",
    "import matplotlib.pyplot as plt\n",
    "%matplotlib inline\n",
    "from sklearn.datasets import load_digits\n",
    "from sklearn.metrics import accuracy_score\n",
    "import time"
   ]
  },
  {
   "cell_type": "markdown",
   "metadata": {},
   "source": [
    "Get Dataset"
   ]
  },
  {
   "cell_type": "code",
   "execution_count": 2,
   "metadata": {},
   "outputs": [],
   "source": [
    "digits_raw = load_digits()"
   ]
  },
  {
   "cell_type": "code",
   "execution_count": 3,
   "metadata": {},
   "outputs": [
    {
     "data": {
      "text/plain": [
       "dict_keys(['data', 'target', 'target_names', 'images', 'DESCR'])"
      ]
     },
     "execution_count": 3,
     "metadata": {},
     "output_type": "execute_result"
    }
   ],
   "source": [
    "digits_raw.keys()"
   ]
  },
  {
   "cell_type": "markdown",
   "metadata": {},
   "source": [
    "Turning the `data` column into a DataFrame"
   ]
  },
  {
   "cell_type": "code",
   "execution_count": 4,
   "metadata": {},
   "outputs": [
    {
     "data": {
      "text/html": [
       "<div>\n",
       "<style scoped>\n",
       "    .dataframe tbody tr th:only-of-type {\n",
       "        vertical-align: middle;\n",
       "    }\n",
       "\n",
       "    .dataframe tbody tr th {\n",
       "        vertical-align: top;\n",
       "    }\n",
       "\n",
       "    .dataframe thead th {\n",
       "        text-align: right;\n",
       "    }\n",
       "</style>\n",
       "<table border=\"1\" class=\"dataframe\">\n",
       "  <thead>\n",
       "    <tr style=\"text-align: right;\">\n",
       "      <th></th>\n",
       "      <th>0</th>\n",
       "      <th>1</th>\n",
       "      <th>2</th>\n",
       "      <th>3</th>\n",
       "      <th>4</th>\n",
       "      <th>5</th>\n",
       "      <th>6</th>\n",
       "      <th>7</th>\n",
       "      <th>8</th>\n",
       "      <th>9</th>\n",
       "      <th>...</th>\n",
       "      <th>54</th>\n",
       "      <th>55</th>\n",
       "      <th>56</th>\n",
       "      <th>57</th>\n",
       "      <th>58</th>\n",
       "      <th>59</th>\n",
       "      <th>60</th>\n",
       "      <th>61</th>\n",
       "      <th>62</th>\n",
       "      <th>63</th>\n",
       "    </tr>\n",
       "  </thead>\n",
       "  <tbody>\n",
       "    <tr>\n",
       "      <th>0</th>\n",
       "      <td>0.0</td>\n",
       "      <td>0.0</td>\n",
       "      <td>5.0</td>\n",
       "      <td>13.0</td>\n",
       "      <td>9.0</td>\n",
       "      <td>1.0</td>\n",
       "      <td>0.0</td>\n",
       "      <td>0.0</td>\n",
       "      <td>0.0</td>\n",
       "      <td>0.0</td>\n",
       "      <td>...</td>\n",
       "      <td>0.0</td>\n",
       "      <td>0.0</td>\n",
       "      <td>0.0</td>\n",
       "      <td>0.0</td>\n",
       "      <td>6.0</td>\n",
       "      <td>13.0</td>\n",
       "      <td>10.0</td>\n",
       "      <td>0.0</td>\n",
       "      <td>0.0</td>\n",
       "      <td>0.0</td>\n",
       "    </tr>\n",
       "    <tr>\n",
       "      <th>1</th>\n",
       "      <td>0.0</td>\n",
       "      <td>0.0</td>\n",
       "      <td>0.0</td>\n",
       "      <td>12.0</td>\n",
       "      <td>13.0</td>\n",
       "      <td>5.0</td>\n",
       "      <td>0.0</td>\n",
       "      <td>0.0</td>\n",
       "      <td>0.0</td>\n",
       "      <td>0.0</td>\n",
       "      <td>...</td>\n",
       "      <td>0.0</td>\n",
       "      <td>0.0</td>\n",
       "      <td>0.0</td>\n",
       "      <td>0.0</td>\n",
       "      <td>0.0</td>\n",
       "      <td>11.0</td>\n",
       "      <td>16.0</td>\n",
       "      <td>10.0</td>\n",
       "      <td>0.0</td>\n",
       "      <td>0.0</td>\n",
       "    </tr>\n",
       "    <tr>\n",
       "      <th>2</th>\n",
       "      <td>0.0</td>\n",
       "      <td>0.0</td>\n",
       "      <td>0.0</td>\n",
       "      <td>4.0</td>\n",
       "      <td>15.0</td>\n",
       "      <td>12.0</td>\n",
       "      <td>0.0</td>\n",
       "      <td>0.0</td>\n",
       "      <td>0.0</td>\n",
       "      <td>0.0</td>\n",
       "      <td>...</td>\n",
       "      <td>5.0</td>\n",
       "      <td>0.0</td>\n",
       "      <td>0.0</td>\n",
       "      <td>0.0</td>\n",
       "      <td>0.0</td>\n",
       "      <td>3.0</td>\n",
       "      <td>11.0</td>\n",
       "      <td>16.0</td>\n",
       "      <td>9.0</td>\n",
       "      <td>0.0</td>\n",
       "    </tr>\n",
       "    <tr>\n",
       "      <th>3</th>\n",
       "      <td>0.0</td>\n",
       "      <td>0.0</td>\n",
       "      <td>7.0</td>\n",
       "      <td>15.0</td>\n",
       "      <td>13.0</td>\n",
       "      <td>1.0</td>\n",
       "      <td>0.0</td>\n",
       "      <td>0.0</td>\n",
       "      <td>0.0</td>\n",
       "      <td>8.0</td>\n",
       "      <td>...</td>\n",
       "      <td>9.0</td>\n",
       "      <td>0.0</td>\n",
       "      <td>0.0</td>\n",
       "      <td>0.0</td>\n",
       "      <td>7.0</td>\n",
       "      <td>13.0</td>\n",
       "      <td>13.0</td>\n",
       "      <td>9.0</td>\n",
       "      <td>0.0</td>\n",
       "      <td>0.0</td>\n",
       "    </tr>\n",
       "    <tr>\n",
       "      <th>4</th>\n",
       "      <td>0.0</td>\n",
       "      <td>0.0</td>\n",
       "      <td>0.0</td>\n",
       "      <td>1.0</td>\n",
       "      <td>11.0</td>\n",
       "      <td>0.0</td>\n",
       "      <td>0.0</td>\n",
       "      <td>0.0</td>\n",
       "      <td>0.0</td>\n",
       "      <td>0.0</td>\n",
       "      <td>...</td>\n",
       "      <td>0.0</td>\n",
       "      <td>0.0</td>\n",
       "      <td>0.0</td>\n",
       "      <td>0.0</td>\n",
       "      <td>0.0</td>\n",
       "      <td>2.0</td>\n",
       "      <td>16.0</td>\n",
       "      <td>4.0</td>\n",
       "      <td>0.0</td>\n",
       "      <td>0.0</td>\n",
       "    </tr>\n",
       "  </tbody>\n",
       "</table>\n",
       "<p>5 rows × 64 columns</p>\n",
       "</div>"
      ],
      "text/plain": [
       "    0    1    2     3     4     5    6    7    8    9   ...   54   55   56  \\\n",
       "0  0.0  0.0  5.0  13.0   9.0   1.0  0.0  0.0  0.0  0.0  ...  0.0  0.0  0.0   \n",
       "1  0.0  0.0  0.0  12.0  13.0   5.0  0.0  0.0  0.0  0.0  ...  0.0  0.0  0.0   \n",
       "2  0.0  0.0  0.0   4.0  15.0  12.0  0.0  0.0  0.0  0.0  ...  5.0  0.0  0.0   \n",
       "3  0.0  0.0  7.0  15.0  13.0   1.0  0.0  0.0  0.0  8.0  ...  9.0  0.0  0.0   \n",
       "4  0.0  0.0  0.0   1.0  11.0   0.0  0.0  0.0  0.0  0.0  ...  0.0  0.0  0.0   \n",
       "\n",
       "    57   58    59    60    61   62   63  \n",
       "0  0.0  6.0  13.0  10.0   0.0  0.0  0.0  \n",
       "1  0.0  0.0  11.0  16.0  10.0  0.0  0.0  \n",
       "2  0.0  0.0   3.0  11.0  16.0  9.0  0.0  \n",
       "3  0.0  7.0  13.0  13.0   9.0  0.0  0.0  \n",
       "4  0.0  0.0   2.0  16.0   4.0  0.0  0.0  \n",
       "\n",
       "[5 rows x 64 columns]"
      ]
     },
     "execution_count": 4,
     "metadata": {},
     "output_type": "execute_result"
    }
   ],
   "source": [
    "digits_data = pd.DataFrame(digits_raw.data)\n",
    "digits_data.head()"
   ]
  },
  {
   "cell_type": "markdown",
   "metadata": {},
   "source": [
    "Each row has 64 values --> each image is represented by a 8x8 picture.\n",
    "Visualizing some of the digits:"
   ]
  },
  {
   "cell_type": "code",
   "execution_count": 5,
   "metadata": {},
   "outputs": [
    {
     "data": {
      "text/plain": [
       "<matplotlib.image.AxesImage at 0x26133276388>"
      ]
     },
     "execution_count": 5,
     "metadata": {},
     "output_type": "execute_result"
    },
    {
     "data": {
      "image/png": "[encoded data removed]",
      "text/plain": [
       "<Figure size 432x288 with 1 Axes>"
      ]
     },
     "metadata": {
      "needs_background": "light"
     },
     "output_type": "display_data"
    }
   ],
   "source": [
    "plt.imshow(digits_data.iloc[0].values.reshape(8,8))"
   ]
  },
  {
   "cell_type": "markdown",
   "metadata": {},
   "source": [
    "Now visualizing multiple images in black and white. Using grayscale instead of color can help focus the training of the neural network on recognizing shapes instead of looking for patterns in the color. It makes the images much less complicated. This is especially useful in applications such as this, where the color is not a useful feature at all."
   ]
  },
  {
   "cell_type": "code",
   "execution_count": 7,
   "metadata": {
    "scrolled": true
   },
   "outputs": [
    {
     "data": {
      "text/plain": [
       "<matplotlib.image.AxesImage at 0x261333e1ec8>"
      ]
     },
     "execution_count": 7,
     "metadata": {},
     "output_type": "execute_result"
    },
    {
     "data": {
      "image/png": "[encoded data removed]",
      "text/plain": [
       "<Figure size 1440x720 with 8 Axes>"
      ]
     },
     "metadata": {
      "needs_background": "light"
     },
     "output_type": "display_data"
    }
   ],
   "source": [
    "fig, axs = plt.subplots(2,4, figsize = (20,10))\n",
    "axs[0,0].imshow(digits_data.iloc[0].values.reshape(8,8), cmap = 'gray_r')\n",
    "axs[0,1].imshow(digits_data.iloc[99].values.reshape(8,8), cmap = 'gray_r')\n",
    "axs[0,2].imshow(digits_data.iloc[199].values.reshape(8,8), cmap = 'gray_r')\n",
    "axs[0,3].imshow(digits_data.iloc[299].values.reshape(8,8), cmap = 'gray_r')\n",
    "axs[1,0].imshow(digits_data.iloc[999].values.reshape(8,8), cmap = 'gray_r')\n",
    "axs[1,1].imshow(digits_data.iloc[1099].values.reshape(8,8), cmap = 'gray_r')\n",
    "axs[1,2].imshow(digits_data.iloc[1199].values.reshape(8,8), cmap = 'gray_r')\n",
    "axs[1,3].imshow(digits_data.iloc[1299].values.reshape(8,8), cmap = 'gray_r')"
   ]
  },
  {
   "cell_type": "markdown",
   "metadata": {},
   "source": [
    "## Dividing Dataset Into Train and Test Sets:\n",
    "\n",
    "* shuffle the DS\n",
    "* reindex\n",
    "* 80% are training\n",
    "* 20% are test"
   ]
  },
  {
   "cell_type": "code",
   "execution_count": 8,
   "metadata": {},
   "outputs": [],
   "source": [
    "features = digits_data\n",
    "target = pd.Series(digits_raw.target)"
   ]
  },
  {
   "cell_type": "code",
   "execution_count": 9,
   "metadata": {},
   "outputs": [],
   "source": [
    "np.random.seed(1)\n",
    "new_ind = np.random.permutation(target.index)\n",
    "features_shuff = features.copy().reindex(index = new_ind).reset_index().drop(columns = 'index')\n",
    "target_shuff = target.copy().reindex(index = new_ind).reset_index().drop(columns = 'index')\n",
    "cut_ind = int(len(target_shuff)*0.8)\n",
    "train_feats = features_shuff.iloc[:cut_ind]\n",
    "train_targs = target_shuff.iloc[:cut_ind]\n",
    "test_feats = features_shuff.iloc[cut_ind:]\n",
    "test_targs = target_shuff.iloc[cut_ind:]"
   ]
  },
  {
   "cell_type": "markdown",
   "metadata": {},
   "source": [
    "## First Machine Learning Algorithm: K-Nearest Neighbors\n",
    "\n",
    "Advantages:\n",
    "\n",
    "* no presumptions about possible linearity between features and targets\n",
    "* no actual training process\n",
    "\n",
    "Disadvantages:\n",
    "\n",
    "* typically very limited in accuracy\n",
    "* Has to look through entire (part of dataset) for each value --> quickly becomes very expensive on large datasets"
   ]
  },
  {
   "cell_type": "code",
   "execution_count": 10,
   "metadata": {},
   "outputs": [
    {
     "data": {
      "text/plain": [
       "array([[1],\n",
       "       [5],\n",
       "       [0],\n",
       "       ...,\n",
       "       [7],\n",
       "       [6],\n",
       "       [3]])"
      ]
     },
     "execution_count": 10,
     "metadata": {},
     "output_type": "execute_result"
    }
   ],
   "source": [
    "train_targs.values"
   ]
  },
  {
   "cell_type": "code",
   "execution_count": 11,
   "metadata": {},
   "outputs": [
    {
     "data": {
      "text/plain": [
       "0.9833333333333333"
      ]
     },
     "execution_count": 11,
     "metadata": {},
     "output_type": "execute_result"
    }
   ],
   "source": [
    "from sklearn.neighbors import KNeighborsClassifier\n",
    "knn = KNeighborsClassifier()\n",
    "knn.fit(train_feats.values, np.ravel(train_targs.values,order = 'C'))\n",
    "predictions_knn = knn.predict(test_feats)\n",
    "accuracy_score(test_targs, predictions_knn)"
   ]
  },
  {
   "cell_type": "markdown",
   "metadata": {},
   "source": [
    "The algorithm is very good at chosing the right digit"
   ]
  },
  {
   "cell_type": "markdown",
   "metadata": {},
   "source": [
    "Cross validation instead of simple 80/20 split of DF:"
   ]
  },
  {
   "cell_type": "code",
   "execution_count": 14,
   "metadata": {},
   "outputs": [],
   "source": [
    "from sklearn.model_selection import KFold, cross_val_score\n",
    "def train_and_test_knn(k):\n",
    "    '''Train and test a k-nearest neighbors model on the dataset\n",
    "    Args:\n",
    "        k(int): k-value of nearest neighbors to find\n",
    "    Returns:\n",
    "        float: accuracy score of the model\n",
    "    '''\n",
    "    kf = KFold(4, shuffle = True, random_state = 2)\n",
    "    model = KNeighborsClassifier(n_neighbors = k, n_jobs = 4)\n",
    "    accs = cross_val_score(model, features, target, scoring = 'accuracy', cv = kf,\n",
    "                           n_jobs = 4)\n",
    "    return accs.mean()"
   ]
  },
  {
   "cell_type": "code",
   "execution_count": 15,
   "metadata": {},
   "outputs": [
    {
     "data": {
      "text/plain": [
       "0.9849777282850779"
      ]
     },
     "execution_count": 15,
     "metadata": {},
     "output_type": "execute_result"
    }
   ],
   "source": [
    "train_and_test_knn(5)"
   ]
  },
  {
   "cell_type": "markdown",
   "metadata": {},
   "source": [
    "This model performs much better than expected even when using cross validation to calculate the accuracy metric"
   ]
  },
  {
   "cell_type": "markdown",
   "metadata": {},
   "source": [
    "Impact of the k-value on accuracy and computation time"
   ]
  },
  {
   "cell_type": "code",
   "execution_count": 21,
   "metadata": {},
   "outputs": [],
   "source": [
    "ks = []\n",
    "accs = []\n",
    "times = []\n",
    "\n",
    "for k in range(1,15):\n",
    "    t0 = time.time()\n",
    "    ks.append(k)\n",
    "    accs.append(train_and_test_knn(k))\n",
    "    times.append(time.time() - t0)"
   ]
  },
  {
   "cell_type": "code",
   "execution_count": 22,
   "metadata": {},
   "outputs": [
    {
     "data": {
      "text/html": [
       "<div>\n",
       "<style scoped>\n",
       "    .dataframe tbody tr th:only-of-type {\n",
       "        vertical-align: middle;\n",
       "    }\n",
       "\n",
       "    .dataframe tbody tr th {\n",
       "        vertical-align: top;\n",
       "    }\n",
       "\n",
       "    .dataframe thead th {\n",
       "        text-align: right;\n",
       "    }\n",
       "</style>\n",
       "<table border=\"1\" class=\"dataframe\">\n",
       "  <thead>\n",
       "    <tr style=\"text-align: right;\">\n",
       "      <th></th>\n",
       "      <th>k</th>\n",
       "      <th>accuracy</th>\n",
       "      <th>time</th>\n",
       "    </tr>\n",
       "  </thead>\n",
       "  <tbody>\n",
       "    <tr>\n",
       "      <th>0</th>\n",
       "      <td>1.0</td>\n",
       "      <td>0.988873</td>\n",
       "      <td>0.157143</td>\n",
       "    </tr>\n",
       "    <tr>\n",
       "      <th>1</th>\n",
       "      <td>2.0</td>\n",
       "      <td>0.982191</td>\n",
       "      <td>0.157143</td>\n",
       "    </tr>\n",
       "    <tr>\n",
       "      <th>2</th>\n",
       "      <td>3.0</td>\n",
       "      <td>0.987201</td>\n",
       "      <td>0.139127</td>\n",
       "    </tr>\n",
       "    <tr>\n",
       "      <th>3</th>\n",
       "      <td>4.0</td>\n",
       "      <td>0.983307</td>\n",
       "      <td>0.157142</td>\n",
       "    </tr>\n",
       "    <tr>\n",
       "      <th>4</th>\n",
       "      <td>5.0</td>\n",
       "      <td>0.984978</td>\n",
       "      <td>0.157143</td>\n",
       "    </tr>\n",
       "    <tr>\n",
       "      <th>5</th>\n",
       "      <td>6.0</td>\n",
       "      <td>0.982752</td>\n",
       "      <td>0.159145</td>\n",
       "    </tr>\n",
       "    <tr>\n",
       "      <th>6</th>\n",
       "      <td>7.0</td>\n",
       "      <td>0.984422</td>\n",
       "      <td>0.158144</td>\n",
       "    </tr>\n",
       "    <tr>\n",
       "      <th>7</th>\n",
       "      <td>8.0</td>\n",
       "      <td>0.980527</td>\n",
       "      <td>0.138125</td>\n",
       "    </tr>\n",
       "    <tr>\n",
       "      <th>8</th>\n",
       "      <td>9.0</td>\n",
       "      <td>0.982757</td>\n",
       "      <td>0.167657</td>\n",
       "    </tr>\n",
       "    <tr>\n",
       "      <th>9</th>\n",
       "      <td>10.0</td>\n",
       "      <td>0.978859</td>\n",
       "      <td>0.159145</td>\n",
       "    </tr>\n",
       "    <tr>\n",
       "      <th>10</th>\n",
       "      <td>11.0</td>\n",
       "      <td>0.979972</td>\n",
       "      <td>0.157142</td>\n",
       "    </tr>\n",
       "    <tr>\n",
       "      <th>11</th>\n",
       "      <td>12.0</td>\n",
       "      <td>0.978859</td>\n",
       "      <td>0.161147</td>\n",
       "    </tr>\n",
       "    <tr>\n",
       "      <th>12</th>\n",
       "      <td>13.0</td>\n",
       "      <td>0.977191</td>\n",
       "      <td>0.160149</td>\n",
       "    </tr>\n",
       "    <tr>\n",
       "      <th>13</th>\n",
       "      <td>14.0</td>\n",
       "      <td>0.975523</td>\n",
       "      <td>0.161144</td>\n",
       "    </tr>\n",
       "  </tbody>\n",
       "</table>\n",
       "</div>"
      ],
      "text/plain": [
       "       k  accuracy      time\n",
       "0    1.0  0.988873  0.157143\n",
       "1    2.0  0.982191  0.157143\n",
       "2    3.0  0.987201  0.139127\n",
       "3    4.0  0.983307  0.157142\n",
       "4    5.0  0.984978  0.157143\n",
       "5    6.0  0.982752  0.159145\n",
       "6    7.0  0.984422  0.158144\n",
       "7    8.0  0.980527  0.138125\n",
       "8    9.0  0.982757  0.167657\n",
       "9   10.0  0.978859  0.159145\n",
       "10  11.0  0.979972  0.157142\n",
       "11  12.0  0.978859  0.161147\n",
       "12  13.0  0.977191  0.160149\n",
       "13  14.0  0.975523  0.161144"
      ]
     },
     "execution_count": 22,
     "metadata": {},
     "output_type": "execute_result"
    }
   ],
   "source": [
    "results = pd.DataFrame([ks,accs,times])\n",
    "results = results.transpose()\n",
    "results.columns = ['k', 'accuracy', 'time']\n",
    "results"
   ]
  },
  {
   "cell_type": "code",
   "execution_count": 23,
   "metadata": {},
   "outputs": [
    {
     "data": {
      "image/png": "[encoded data removed]",
      "text/plain": [
       "<Figure size 432x288 with 1 Axes>"
      ]
     },
     "metadata": {
      "needs_background": "light"
     },
     "output_type": "display_data"
    }
   ],
   "source": [
    "results.plot.line(x = 'k', y = 'accuracy')\n",
    "plt.title('accuracy over k')\n",
    "plt.show()"
   ]
  },
  {
   "cell_type": "code",
   "execution_count": 25,
   "metadata": {
    "scrolled": true
   },
   "outputs": [
    {
     "data": {
      "image/png": "[encoded data removed]",
      "text/plain": [
       "<Figure size 432x288 with 1 Axes>"
      ]
     },
     "metadata": {
      "needs_background": "light"
     },
     "output_type": "display_data"
    }
   ],
   "source": [
    "results.plot.line(x = 'k', y = 'time')\n",
    "plt.title('time over k')\n",
    "plt.show()"
   ]
  },
  {
   "cell_type": "markdown",
   "metadata": {},
   "source": [
    "The accuracy of the model decreases with higher k-values, but it is not strongly impacted at all. The lowest measured accuracy is at 97.6% when using a k-value of 14. While the lower k-values show a slightly higher accuracy, they are also more susceptible to falsely identified single nearest neighbors, to alleviate this problem, it might be advantageous to use a k-value of about 5. In general the uneven k-values are more accurate than the closest even k-values. This could be caused by the fact, that even k-values can lead to a tie when half of the nearest neighbors are identified as one value and the other half is identified as a different value. Uneven numbers can break the tie and due to the high correct identification percentage, the additional neighbor is likely to be identified correctly, reducing the error metric. Using a slightly higher k-value will also not impact the performance, as can be seen in the second graph."
   ]
  },
  {
   "cell_type": "markdown",
   "metadata": {},
   "source": [
    "## Neural Network:\n",
    "\n",
    "Neural network will be constructed for the same problem. Starting off with only one hidden layer. The number of neurons will be increased first to understand how this impacts performance. Later more hidden layers will be added."
   ]
  },
  {
   "cell_type": "code",
   "execution_count": 28,
   "metadata": {},
   "outputs": [],
   "source": [
    "from sklearn.neural_network import MLPClassifier\n",
    "from sklearn.model_selection import KFold, cross_val_score\n",
    "def train_and_test_nn(hl):\n",
    "    '''Train and test a neural network to identify the handwritten digits in the dataset\n",
    "    Args:\n",
    "        hl (int, int(optional), ...): number of neurons in hidden layers\n",
    "    Returns:\n",
    "        float: accuracy metric of the model\n",
    "    '''\n",
    "    kf = KFold(n_splits = 5, shuffle = True, random_state = 2)\n",
    "    model = MLPClassifier(hidden_layer_sizes = hl, activation = 'tanh', shuffle = False)\n",
    "    accs = cross_val_score(model, features, target, scoring = 'accuracy', cv = kf, n_jobs = -1)\n",
    "    return accs.mean()"
   ]
  },
  {
   "cell_type": "code",
   "execution_count": 27,
   "metadata": {},
   "outputs": [
    {
     "data": {
      "text/plain": [
       "0.8987356855462704"
      ]
     },
     "execution_count": 27,
     "metadata": {},
     "output_type": "execute_result"
    }
   ],
   "source": [
    "train_and_test_nn(8,)"
   ]
  },
  {
   "cell_type": "markdown",
   "metadata": {},
   "source": [
    "Even with only one hidden layer and 8 neurons, the model already reaches an accuracy metric of 0.90.\n",
    "\n",
    "Impact of the number of neurons in the first layer on the computational expense and accuracy:"
   ]
  },
  {
   "cell_type": "code",
   "execution_count": 29,
   "metadata": {},
   "outputs": [
    {
     "name": "stdout",
     "output_type": "stream",
     "text": [
      "1.0629663467407227\n",
      "1.061964511871338\n",
      "0.8407642841339111\n",
      "1.1150133609771729\n",
      "1.311192512512207\n",
      "1.738579273223877\n"
     ]
    }
   ],
   "source": [
    "import time\n",
    "ks = []\n",
    "accs = []\n",
    "times = []\n",
    "for k in [3,4,5,6,7,8]:\n",
    "    t0 = time.time()\n",
    "    ks.append(2**k)\n",
    "    accs.append(train_and_test_nn((2**k,)))\n",
    "    ti = time.time() - t0\n",
    "    times.append(ti)\n",
    "    print(ti)    "
   ]
  },
  {
   "cell_type": "code",
   "execution_count": 36,
   "metadata": {
    "scrolled": true
   },
   "outputs": [
    {
     "data": {
      "text/plain": [
       "[<matplotlib.lines.Line2D at 0x1a734f1e6a0>]"
      ]
     },
     "execution_count": 36,
     "metadata": {},
     "output_type": "execute_result"
    },
    {
     "data": {
      "image/png": "[encoded data removed]",
      "text/plain": [
       "<Figure size 432x288 with 1 Axes>"
      ]
     },
     "metadata": {
      "needs_background": "light"
     },
     "output_type": "display_data"
    }
   ],
   "source": [
    "plt.plot(ks,accs)"
   ]
  },
  {
   "cell_type": "markdown",
   "metadata": {},
   "source": [
    "At higher neuron counts the improvement in accuracy hits a point of diminishing returns. The problem becomes slightly more computationally expensive. The accuracy with 256 neurons is at around 98 %. Now a neural network with two hidden layers:"
   ]
  },
  {
   "cell_type": "code",
   "execution_count": 30,
   "metadata": {},
   "outputs": [
    {
     "name": "stdout",
     "output_type": "stream",
     "text": [
      "0.9660646858557722\n"
     ]
    }
   ],
   "source": [
    "print(train_and_test_nn((64,64)))"
   ]
  },
  {
   "cell_type": "markdown",
   "metadata": {},
   "source": [
    "A neural network with two hidden layers of 64 neurons performs comparably to the k-nearest-neighbors model"
   ]
  },
  {
   "cell_type": "markdown",
   "metadata": {},
   "source": [
    "## Neural Network with Three Hidden Layers\n",
    "Now looking at a model with three hidden layers. This can lead to overfitting, so the number of folds will be increased to 6."
   ]
  },
  {
   "cell_type": "code",
   "execution_count": 35,
   "metadata": {},
   "outputs": [],
   "source": [
    "from sklearn.neural_network import MLPClassifier\n",
    "from sklearn.model_selection import KFold, cross_val_score\n",
    "def train_and_test_nn(hl):\n",
    "    '''Train and test a neural network to identify the handwritten digits in the dataset\n",
    "    Args:\n",
    "        hl (int, int(optional), ...): number of neurons in hidden layers\n",
    "    Returns:\n",
    "        float: accuracy metric of the model\n",
    "    '''    \n",
    "    t0 = time.time()\n",
    "    kf = KFold(n_splits = 6, shuffle = True, random_state = 2)\n",
    "    model = MLPClassifier(hidden_layer_sizes = hl, activation = 'tanh', shuffle = False)\n",
    "    accs = cross_val_score(model, features, target, scoring = 'accuracy', cv = kf, n_jobs = -1)\n",
    "    print(time.time() - t0)\n",
    "    return accs.mean()"
   ]
  },
  {
   "cell_type": "code",
   "execution_count": 36,
   "metadata": {},
   "outputs": [
    {
     "name": "stdout",
     "output_type": "stream",
     "text": [
      "1.058962345123291\n",
      "1.3822557926177979\n",
      "2.155463218688965\n"
     ]
    }
   ],
   "source": [
    "accs = []\n",
    "ks = []\n",
    "for k in [10,64,128]:\n",
    "    accs.append(train_and_test_nn((k,k,k)))\n",
    "    ks.append(k)"
   ]
  },
  {
   "cell_type": "code",
   "execution_count": 37,
   "metadata": {
    "scrolled": true
   },
   "outputs": [
    {
     "data": {
      "text/plain": [
       "[<matplotlib.lines.Line2D at 0x261341b26c8>]"
      ]
     },
     "execution_count": 37,
     "metadata": {},
     "output_type": "execute_result"
    },
    {
     "data": {
      "image/png": "[encoded data removed]",
      "text/plain": [
       "<Figure size 432x288 with 1 Axes>"
      ]
     },
     "metadata": {
      "needs_background": "light"
     },
     "output_type": "display_data"
    }
   ],
   "source": [
    "plt.plot(ks,accs)"
   ]
  },
  {
   "cell_type": "markdown",
   "metadata": {},
   "source": [
    "# Results\n",
    "With the larger amount of neurons in the hidden layers, the accuracy of the model can be increased slightly. Using three hidden layers with 128 neurons each, the neural network reached an accuracy of 97%. This is comparable to the k-nearest neighbors model. The computation for this model took about 15 times as long as the computation of the k-nearest neighbors model.\n",
    "\n",
    "The computational advantage of the k-nearest neighbors model disappears very quickly, though. The most expensive part of the neural network by far is the training process and this only has to be completed once. Once a neural network is trained, it can make predictions while using much less resources. The k-neighbors model however still has to compare every new value that needs to be classified to every single value in the training set. When using a model to make a lot of predictions, this can quickly add up.\n",
    "\n",
    "In addition the k-neighbors classifier does not scale well on larger datasets. As the number of values in the dataset increase, the k-neighbors model still has to compare each new value to every one of the values in the training set. This quickly becomes prohibitively expensive.\n",
    "\n",
    "These factors make the neural network suited to repeated use and use on larger datasets. But while classifying small datasets for only a limited number of uses, the k-neighbors classifier can be a computationally cheap and very simple alternative."
   ]
  },
  {
   "cell_type": "markdown",
   "metadata": {},
   "source": [
    "# Summary\n",
    "\n",
    "In this project, two machine learning models were constructed to classify a dataset of handwritten digits:\n",
    "\n",
    "* k-neighbors classifier: this model is very simple and computationally inexpensive when applied s limited amount of times to a small dataset. It showed an accuracy of up to 99%. \n",
    "\n",
    "* neural network: this model showed an accuracy of up to 97% when using three hidden layers with 128 neurons each. It is best suited to larger datasets and is much more versatile than the k-neighbors model. Optimizing the number of hidden layers and neurons as well the neural network model itself (for example using different activation functions) could increase the accuracy further."
   ]
  }
 ],
 "metadata": {
  "kernelspec": {
   "display_name": "Python 3",
   "language": "python",
   "name": "python3"
  },
  "language_info": {
   "codemirror_mode": {
    "name": "ipython",
    "version": 3
   },
   "file_extension": ".py",
   "mimetype": "text/x-python",
   "name": "python",
   "nbconvert_exporter": "python",
   "pygments_lexer": "ipython3",
   "version": "3.7.6"
  }
 },
 "nbformat": 4,
 "nbformat_minor": 2
}
